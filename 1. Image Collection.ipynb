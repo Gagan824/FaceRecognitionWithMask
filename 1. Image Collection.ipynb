{
 "cells": [
  {
   "cell_type": "markdown",
   "metadata": {},
   "source": [
    "# 1. Import Dependencies"
   ]
  },
  {
   "cell_type": "code",
   "execution_count": 1,
   "metadata": {},
   "outputs": [
    {
     "name": "stdout",
     "output_type": "stream",
     "text": [
      "Requirement already satisfied: opencv-python in d:\\youtube\\od\\tfodcourse\\tfod\\lib\\site-packages (4.5.1.48)\n",
      "Requirement already satisfied: numpy>=1.14.5 in d:\\youtube\\od\\tfodcourse\\tfod\\lib\\site-packages (from opencv-python) (1.20.2)\n"
     ]
    }
   ],
   "source": [
    "!pip install opencv-python"
   ]
  },
  {
   "cell_type": "code",
   "execution_count": 1,
   "metadata": {},
   "outputs": [],
   "source": [
    "# Import opencv\n",
    "import cv2 \n",
    "\n",
    "# Import uuid\n",
    "import uuid\n",
    "\n",
    "# Import Operating System\n",
    "import os\n",
    "\n",
    "# Import time\n",
    "import time"
   ]
  },
  {
   "cell_type": "markdown",
   "metadata": {},
   "source": [
    "# 2. Define Images to Collect"
   ]
  },
  {
   "cell_type": "code",
   "execution_count": 2,
   "metadata": {},
   "outputs": [],
   "source": [
    "labels = ['gagan','gagan_half','gagan_partial','gagan_with_mask', 'Mask', 'partial_mask','half_mask']\n",
    "number_imgs = 20"
   ]
  },
  {
   "cell_type": "markdown",
   "metadata": {},
   "source": [
    "# 3. Setup Folders "
   ]
  },
  {
   "cell_type": "code",
   "execution_count": 3,
   "metadata": {},
   "outputs": [],
   "source": [
    "IMAGES_PATH = os.path.join('Tensorflow', 'workspace', 'images', 'collectedimages')"
   ]
  },
  {
   "cell_type": "code",
   "execution_count": 4,
   "metadata": {},
   "outputs": [],
   "source": [
    "if not os.path.exists(IMAGES_PATH):\n",
    "    if os.name == 'posix':\n",
    "        !mkdir -p {IMAGES_PATH}\n",
    "    if os.name == 'nt':\n",
    "         !mkdir {IMAGES_PATH}\n",
    "for label in labels:\n",
    "    path = os.path.join(IMAGES_PATH, label)\n",
    "    if not os.path.exists(path):\n",
    "        !mkdir {path}"
   ]
  },
  {
   "cell_type": "markdown",
   "metadata": {},
   "source": [
    "# 4. Capture Images"
   ]
  },
  {
   "cell_type": "code",
   "execution_count": 5,
   "metadata": {},
   "outputs": [
    {
     "name": "stdout",
     "output_type": "stream",
     "text": [
      "Collecting images for gagan\n"
     ]
    },
    {
     "ename": "KeyboardInterrupt",
     "evalue": "",
     "output_type": "error",
     "traceback": [
      "\u001b[1;31m---------------------------------------------------------------------------\u001b[0m",
      "\u001b[1;31mKeyboardInterrupt\u001b[0m                         Traceback (most recent call last)",
      "\u001b[1;32m<ipython-input-5-d176419936b4>\u001b[0m in \u001b[0;36m<module>\u001b[1;34m\u001b[0m\n\u001b[0;32m      2\u001b[0m     \u001b[0mcap\u001b[0m \u001b[1;33m=\u001b[0m \u001b[0mcv2\u001b[0m\u001b[1;33m.\u001b[0m\u001b[0mVideoCapture\u001b[0m\u001b[1;33m(\u001b[0m\u001b[1;36m0\u001b[0m\u001b[1;33m)\u001b[0m\u001b[1;33m\u001b[0m\u001b[1;33m\u001b[0m\u001b[0m\n\u001b[0;32m      3\u001b[0m     \u001b[0mprint\u001b[0m\u001b[1;33m(\u001b[0m\u001b[1;34m'Collecting images for {}'\u001b[0m\u001b[1;33m.\u001b[0m\u001b[0mformat\u001b[0m\u001b[1;33m(\u001b[0m\u001b[0mlabel\u001b[0m\u001b[1;33m)\u001b[0m\u001b[1;33m)\u001b[0m\u001b[1;33m\u001b[0m\u001b[1;33m\u001b[0m\u001b[0m\n\u001b[1;32m----> 4\u001b[1;33m     \u001b[0mtime\u001b[0m\u001b[1;33m.\u001b[0m\u001b[0msleep\u001b[0m\u001b[1;33m(\u001b[0m\u001b[1;36m5\u001b[0m\u001b[1;33m)\u001b[0m\u001b[1;33m\u001b[0m\u001b[1;33m\u001b[0m\u001b[0m\n\u001b[0m\u001b[0;32m      5\u001b[0m     \u001b[1;32mfor\u001b[0m \u001b[0mimgnum\u001b[0m \u001b[1;32min\u001b[0m \u001b[0mrange\u001b[0m\u001b[1;33m(\u001b[0m\u001b[0mnumber_imgs\u001b[0m\u001b[1;33m)\u001b[0m\u001b[1;33m:\u001b[0m\u001b[1;33m\u001b[0m\u001b[1;33m\u001b[0m\u001b[0m\n\u001b[0;32m      6\u001b[0m         \u001b[0mprint\u001b[0m\u001b[1;33m(\u001b[0m\u001b[1;34m'Collecting image {}'\u001b[0m\u001b[1;33m.\u001b[0m\u001b[0mformat\u001b[0m\u001b[1;33m(\u001b[0m\u001b[0mimgnum\u001b[0m\u001b[1;33m)\u001b[0m\u001b[1;33m)\u001b[0m\u001b[1;33m\u001b[0m\u001b[1;33m\u001b[0m\u001b[0m\n",
      "\u001b[1;31mKeyboardInterrupt\u001b[0m: "
     ]
    }
   ],
   "source": [
    "for label in labels:\n",
    "    cap = cv2.VideoCapture(0)\n",
    "    print('Collecting images for {}'.format(label))\n",
    "    time.sleep(5)\n",
    "    for imgnum in range(number_imgs):\n",
    "        print('Collecting image {}'.format(imgnum))\n",
    "        ret, frame = cap.read()\n",
    "        imgname = os.path.join(IMAGES_PATH,label,label+'.'+'{}.jpg'.format(str(uuid.uuid1())))\n",
    "        cv2.imwrite(imgname, frame)\n",
    "        cv2.imshow('frame', frame)\n",
    "        time.sleep(2)\n",
    "\n",
    "        if cv2.waitKey(1) & 0xFF == ord('q'):\n",
    "            break\n",
    "cap.release()\n",
    "cv2.destroyAllWindows()"
   ]
  },
  {
   "cell_type": "markdown",
   "metadata": {},
   "source": [
    "# 5. Image Labelling"
   ]
  },
  {
   "cell_type": "code",
   "execution_count": 6,
   "metadata": {},
   "outputs": [
    {
     "name": "stdout",
     "output_type": "stream",
     "text": [
      "Requirement already satisfied: pyqt5 in c:\\users\\aishw\\.conda\\envs\\tf\\lib\\site-packages (5.12.3)"
     ]
    },
    {
     "name": "stderr",
     "output_type": "stream",
     "text": [
      "ERROR: Could not install packages due to an OSError: [WinError 5] Access is denied: 'C:\\\\Users\\\\aishw\\\\AppData\\\\Local\\\\Temp\\\\pip-uninstall-khyjc6mr\\\\qt\\\\bin\\\\libcrypto-1_1-x64.dll'\n",
      "Consider using the `--user` option or check the permissions.\n",
      "\n"
     ]
    },
    {
     "name": "stdout",
     "output_type": "stream",
     "text": [
      "\n",
      "Collecting pyqt5\n",
      "  Using cached PyQt5-5.15.4-cp36.cp37.cp38.cp39-none-win_amd64.whl (6.8 MB)\n",
      "Requirement already satisfied: lxml in c:\\users\\aishw\\.conda\\envs\\tf\\lib\\site-packages\\lxml-4.6.3-py3.9-win-amd64.egg (4.6.3)\n",
      "Requirement already satisfied: PyQt5-Qt5>=5.15 in c:\\users\\aishw\\.conda\\envs\\tf\\lib\\site-packages (from pyqt5) (5.15.2)\n",
      "Requirement already satisfied: PyQt5-sip<13,>=12.8 in c:\\users\\aishw\\.conda\\envs\\tf\\lib\\site-packages (from pyqt5) (12.9.0)\n",
      "Installing collected packages: pyqt5\n",
      "  Attempting uninstall: pyqt5\n",
      "    Found existing installation: PyQt5 5.12.3\n",
      "    Uninstalling PyQt5-5.12.3:\n",
      "      Successfully uninstalled PyQt5-5.12.3\n"
     ]
    }
   ],
   "source": [
    "!pip install --upgrade pyqt5 lxml"
   ]
  },
  {
   "cell_type": "code",
   "execution_count": 7,
   "metadata": {},
   "outputs": [],
   "source": [
    "LABELIMG_PATH = os.path.join('Tensorflow', 'labelimg')"
   ]
  },
  {
   "cell_type": "code",
   "execution_count": 8,
   "metadata": {},
   "outputs": [
    {
     "name": "stderr",
     "output_type": "stream",
     "text": [
      "Cloning into 'Tensorflow\\labelimg'...\n",
      "Updating files:  21% (23/107)\n",
      "Updating files:  22% (24/107)\n",
      "Updating files:  23% (25/107)\n",
      "Updating files:  24% (26/107)\n",
      "Updating files:  25% (27/107)\n",
      "Updating files:  26% (28/107)\n",
      "Updating files:  27% (29/107)\n",
      "Updating files:  28% (30/107)\n",
      "Updating files:  29% (32/107)\n",
      "Updating files:  30% (33/107)\n",
      "Updating files:  31% (34/107)\n",
      "Updating files:  32% (35/107)\n",
      "Updating files:  33% (36/107)\n",
      "Updating files:  34% (37/107)\n",
      "Updating files:  35% (38/107)\n",
      "Updating files:  36% (39/107)\n",
      "Updating files:  37% (40/107)\n",
      "Updating files:  38% (41/107)\n",
      "Updating files:  39% (42/107)\n",
      "Updating files:  40% (43/107)\n",
      "Updating files:  41% (44/107)\n",
      "Updating files:  42% (45/107)\n",
      "Updating files:  43% (47/107)\n",
      "Updating files:  44% (48/107)\n",
      "Updating files:  45% (49/107)\n",
      "Updating files:  46% (50/107)\n",
      "Updating files:  47% (51/107)\n",
      "Updating files:  48% (52/107)\n",
      "Updating files:  49% (53/107)\n",
      "Updating files:  50% (54/107)\n",
      "Updating files:  51% (55/107)\n",
      "Updating files:  52% (56/107)\n",
      "Updating files:  53% (57/107)\n",
      "Updating files:  54% (58/107)\n",
      "Updating files:  55% (59/107)\n",
      "Updating files:  56% (60/107)\n",
      "Updating files:  57% (61/107)\n",
      "Updating files:  58% (63/107)\n",
      "Updating files:  59% (64/107)\n",
      "Updating files:  60% (65/107)\n",
      "Updating files:  61% (66/107)\n",
      "Updating files:  62% (67/107)\n",
      "Updating files:  63% (68/107)\n",
      "Updating files:  64% (69/107)\n",
      "Updating files:  65% (70/107)\n",
      "Updating files:  66% (71/107)\n",
      "Updating files:  67% (72/107)\n",
      "Updating files:  68% (73/107)\n",
      "Updating files:  69% (74/107)\n",
      "Updating files:  70% (75/107)\n",
      "Updating files:  71% (76/107)\n",
      "Updating files:  72% (78/107)\n",
      "Updating files:  73% (79/107)\n",
      "Updating files:  74% (80/107)\n",
      "Updating files:  75% (81/107)\n",
      "Updating files:  76% (82/107)\n",
      "Updating files:  77% (83/107)\n",
      "Updating files:  78% (84/107)\n",
      "Updating files:  79% (85/107)\n",
      "Updating files:  80% (86/107)\n",
      "Updating files:  81% (87/107)\n",
      "Updating files:  82% (88/107)\n",
      "Updating files:  83% (89/107)\n",
      "Updating files:  84% (90/107)\n",
      "Updating files:  85% (91/107)\n",
      "Updating files:  86% (93/107)\n",
      "Updating files:  87% (94/107)\n",
      "Updating files:  88% (95/107)\n",
      "Updating files:  89% (96/107)\n",
      "Updating files:  90% (97/107)\n",
      "Updating files:  91% (98/107)\n",
      "Updating files:  92% (99/107)\n",
      "Updating files:  93% (100/107)\n",
      "Updating files:  94% (101/107)\n",
      "Updating files:  95% (102/107)\n",
      "Updating files:  96% (103/107)\n",
      "Updating files:  97% (104/107)\n",
      "Updating files:  98% (105/107)\n",
      "Updating files:  99% (106/107)\n",
      "Updating files: 100% (107/107)\n",
      "Updating files: 100% (107/107), done.\n"
     ]
    }
   ],
   "source": [
    "if not os.path.exists(LABELIMG_PATH):\n",
    "    !mkdir {LABELIMG_PATH}\n",
    "    !git clone https://github.com/tzutalin/labelImg {LABELIMG_PATH}"
   ]
  },
  {
   "cell_type": "code",
   "execution_count": 9,
   "metadata": {},
   "outputs": [],
   "source": [
    "if os.name == 'posix':\n",
    "    !make qt5py3\n",
    "if os.name =='nt':\n",
    "    !cd {LABELIMG_PATH} && pyrcc5 -o libs/resources.py resources.qrc"
   ]
  },
  {
   "cell_type": "code",
   "execution_count": 10,
   "metadata": {},
   "outputs": [],
   "source": [
    "!cd {LABELIMG_PATH} && python labelImg.py"
   ]
  },
  {
   "cell_type": "markdown",
   "metadata": {},
   "source": [
    "# 6. Move them into a Training and Testing Partition"
   ]
  },
  {
   "cell_type": "markdown",
   "metadata": {},
   "source": [
    "# OPTIONAL - 7. Compress them for Colab Training"
   ]
  },
  {
   "cell_type": "code",
   "execution_count": 20,
   "metadata": {},
   "outputs": [],
   "source": [
    "TRAIN_PATH = os.path.join('Tensorflow', 'workspace', 'images', 'train')\n",
    "TEST_PATH = os.path.join('Tensorflow', 'workspace', 'images', 'test')\n",
    "ARCHIVE_PATH = os.path.join('Tensorflow', 'workspace', 'images', 'archive.tar.gz')"
   ]
  },
  {
   "cell_type": "code",
   "execution_count": 21,
   "metadata": {},
   "outputs": [],
   "source": [
    "!tar -czf {ARCHIVE_PATH} {TRAIN_PATH} {TEST_PATH}"
   ]
  },
  {
   "cell_type": "code",
   "execution_count": 6,
   "metadata": {},
   "outputs": [],
   "source": [
    "cap.release()\n",
    "cv2.destroyAllWindows()"
   ]
  }
 ],
 "metadata": {
  "kernelspec": {
   "display_name": "Python 3",
   "language": "python",
   "name": "python3"
  },
  "language_info": {
   "codemirror_mode": {
    "name": "ipython",
    "version": 3
   },
   "file_extension": ".py",
   "mimetype": "text/x-python",
   "name": "python",
   "nbconvert_exporter": "python",
   "pygments_lexer": "ipython3",
   "version": "3.9.5"
  }
 },
 "nbformat": 4,
 "nbformat_minor": 2
}
