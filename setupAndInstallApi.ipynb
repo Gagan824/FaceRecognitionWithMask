{
 "cells": [
  {
   "cell_type": "markdown",
   "metadata": {
    "id": "QUANWN3rpfC9"
   },
   "source": [
    "# 1. Setup Paths for Tensorflow APIs"
   ]
  },
  {
   "cell_type": "code",
   "execution_count": 1,
   "metadata": {
    "id": "146BB11JpfDA"
   },
   "outputs": [],
   "source": [
    "import os"
   ]
  },
  {
   "cell_type": "code",
   "execution_count": 2,
   "metadata": {
    "id": "42hJEdo_pfDB"
   },
   "outputs": [],
   "source": [
    "CUSTOM_MODEL_NAME = 'my_ssd_mobnet' \n",
    "PRETRAINED_MODEL_NAME = 'ssd_mobilenet_v2_fpnlite_320x320_coco17_tpu-8'\n",
    "PRETRAINED_MODEL_URL = 'http://download.tensorflow.org/models/object_detection/tf2/20200711/ssd_mobilenet_v2_fpnlite_320x320_coco17_tpu-8.tar.gz'\n",
    "TF_RECORD_SCRIPT_NAME = 'generate_tfrecord.py'\n",
    "LABEL_MAP_NAME = 'label_map.pbtxt'"
   ]
  },
  {
   "cell_type": "code",
   "execution_count": 3,
   "metadata": {
    "id": "hbPhYVy_pfDB"
   },
   "outputs": [],
   "source": [
    "paths = {\n",
    "    'WORKSPACE_PATH': os.path.join('Tensorflow', 'workspace'),\n",
    "    'SCRIPTS_PATH': os.path.join('Tensorflow','scripts'),\n",
    "    'APIMODEL_PATH': os.path.join('Tensorflow','models'),\n",
    "    'ANNOTATION_PATH': os.path.join('Tensorflow', 'workspace','annotations'),\n",
    "    'IMAGE_PATH': os.path.join('Tensorflow', 'workspace','images'),\n",
    "    'MODEL_PATH': os.path.join('Tensorflow', 'workspace','models'),\n",
    "    'PRETRAINED_MODEL_PATH': os.path.join('Tensorflow', 'workspace','pre-trained-models'),\n",
    "    'CHECKPOINT_PATH': os.path.join('Tensorflow', 'workspace','models',CUSTOM_MODEL_NAME), \n",
    "    'OUTPUT_PATH': os.path.join('Tensorflow', 'workspace','models',CUSTOM_MODEL_NAME, 'export'), \n",
    "    'TFJS_PATH':os.path.join('Tensorflow', 'workspace','models',CUSTOM_MODEL_NAME, 'tfjsexport'), \n",
    "    'TFLITE_PATH':os.path.join('Tensorflow', 'workspace','models',CUSTOM_MODEL_NAME, 'tfliteexport'), \n",
    "    'PROTOC_PATH':os.path.join('Tensorflow','protoc')\n",
    " }"
   ]
  },
  {
   "cell_type": "code",
   "execution_count": 4,
   "metadata": {
    "id": "LwhWZMI0pfDC"
   },
   "outputs": [],
   "source": [
    "files = {\n",
    "    'PIPELINE_CONFIG':os.path.join('Tensorflow', 'workspace','models', CUSTOM_MODEL_NAME, 'pipeline.config'),\n",
    "    'TF_RECORD_SCRIPT': os.path.join(paths['SCRIPTS_PATH'], TF_RECORD_SCRIPT_NAME), \n",
    "    'LABELMAP': os.path.join(paths['ANNOTATION_PATH'], LABEL_MAP_NAME)\n",
    "}"
   ]
  },
  {
   "cell_type": "code",
   "execution_count": 5,
   "metadata": {
    "id": "HR-TfDGrpfDC"
   },
   "outputs": [],
   "source": [
    "for path in paths.values():\n",
    "    if not os.path.exists(path):\n",
    "        if os.name == 'posix':\n",
    "            !mkdir -p {path}\n",
    "        if os.name == 'nt':\n",
    "            !mkdir {path}"
   ]
  },
  {
   "cell_type": "markdown",
   "metadata": {
    "id": "OLU-rs_ipfDE"
   },
   "source": [
    "# 2. Download TF Models Pretrained Models from Tensorflow Model Zoo and Install TFOD"
   ]
  },
  {
   "cell_type": "code",
   "execution_count": null,
   "metadata": {},
   "outputs": [],
   "source": [
    "# https://www.tensorflow.org/install/source_windows"
   ]
  },
  {
   "cell_type": "code",
   "execution_count": null,
   "metadata": {
    "id": "K-Cmz2edpfDE",
    "scrolled": true
   },
   "outputs": [],
   "source": [
    "if os.name=='nt':\n",
    "    !pip install wget\n",
    "    import wget"
   ]
  },
  {
   "cell_type": "code",
   "execution_count": null,
   "metadata": {
    "id": "iA1DIq5OpfDE"
   },
   "outputs": [],
   "source": [
    "if not os.path.exists(os.path.join(paths['APIMODEL_PATH'], 'research', 'object_detection')):\n",
    "    !git clone https://github.com/tensorflow/models {paths['APIMODEL_PATH']}"
   ]
  },
  {
   "cell_type": "code",
   "execution_count": null,
   "metadata": {
    "id": "rJjMHbnDs3Tv"
   },
   "outputs": [],
   "source": [
    "import wget\n",
    "# Install Tensorflow Object Detection \n",
    "if os.name=='posix':  \n",
    "    !apt-get install protobuf-compiler\n",
    "    !cd Tensorflow/models/research && protoc object_detection/protos/*.proto --python_out=. && cp object_detection/packages/tf2/setup.py . && python -m pip install . \n",
    "    \n",
    "if os.name=='nt':\n",
    "    url=\"https://github.com/protocolbuffers/protobuf/releases/download/v3.15.6/protoc-3.15.6-win64.zip\"\n",
    "    wget.download(url)\n",
    "    !move protoc-3.15.6-win64.zip {paths['PROTOC_PATH']}\n",
    "    !cd {paths['PROTOC_PATH']} && tar -xf protoc-3.15.6-win64.zip\n",
    "    os.environ['PATH'] += os.pathsep + os.path.abspath(os.path.join(paths['PROTOC_PATH'], 'bin'))   \n",
    "    !cd Tensorflow/models/research && protoc object_detection/protos/*.proto --python_out=. && copy object_detection\\\\packages\\\\tf2\\\\setup.py setup.py && python setup.py build && python setup.py install\n",
    "    !cd Tensorflow/models/research/slim && pip install -e . "
   ]
  },
  {
   "cell_type": "markdown",
   "metadata": {},
   "source": [
    "# verifying whether all the dependies are installed"
   ]
  },
  {
   "cell_type": "code",
   "execution_count": null,
   "metadata": {
    "scrolled": true
   },
   "outputs": [],
   "source": [
    "VERIFICATION_SCRIPT = os.path.join(paths['APIMODEL_PATH'], 'research', 'object_detection', 'builders', 'model_builder_tf2_test.py')\n",
    "# Verify Installation\n",
    "!python {VERIFICATION_SCRIPT}"
   ]
  },
  {
   "cell_type": "markdown",
   "metadata": {},
   "source": [
    "# importing all the necessary modules"
   ]
  },
  {
   "cell_type": "code",
   "execution_count": 17,
   "metadata": {},
   "outputs": [],
   "source": [
    "import object_detection\n",
    "import os\n",
    "import tensorflow as tf\n",
    "from object_detection.utils import label_map_util\n",
    "from object_detection.utils import visualization_utils as viz_utils\n",
    "from object_detection.builders import model_builder\n",
    "from object_detection.utils import config_util\n",
    "from pathlib import Path\n",
    "import numpy as np\n",
    "import cv2 \n",
    "import matplotlib.pyplot as plt\n",
    "%matplotlib inline\n",
    "import keras\n",
    "from keras.preprocessing import image\n",
    "from keras.applications.imagenet_utils import decode_predictions, preprocess_input\n",
    "from keras.models import Model\n",
    "import numpy as np\n",
    "import matplotlib.pyplot as plt\n",
    "from sklearn.decomposition import PCA\n",
    "import time\n",
    "from scipy.spatial import distance\n",
    "import time\n",
    "from sklearn.naive_bayes import GaussianNB\n",
    "import pandas as pd"
   ]
  },
  {
   "cell_type": "markdown",
   "metadata": {},
   "source": [
    "# 3. moving model to the specific directory"
   ]
  },
  {
   "cell_type": "code",
   "execution_count": null,
   "metadata": {
    "colab": {
     "base_uri": "https://localhost:8080/"
    },
    "id": "csofht2npfDE",
    "outputId": "ff5471b2-bed2-43f2-959c-327a706527b6"
   },
   "outputs": [],
   "source": [
    "if os.name =='posix':\n",
    "    !wget {PRETRAINED_MODEL_URL}\n",
    "    !mv {PRETRAINED_MODEL_NAME+'.tar.gz'} {paths['PRETRAINED_MODEL_PATH']}\n",
    "    !cd {paths['PRETRAINED_MODEL_PATH']} && tar -zxvf {PRETRAINED_MODEL_NAME+'.tar.gz'}\n",
    "if os.name == 'nt':\n",
    "    wget.download(PRETRAINED_MODEL_URL)\n",
    "    !move {PRETRAINED_MODEL_NAME+'.tar.gz'} {paths['PRETRAINED_MODEL_PATH']}\n",
    "    !cd {paths['PRETRAINED_MODEL_PATH']} && tar -zxvf {PRETRAINED_MODEL_NAME+'.tar.gz'}"
   ]
  },
  {
   "cell_type": "markdown",
   "metadata": {
    "id": "M5KJTnkfpfDC"
   },
   "source": [
    "# 4. Create Label Map"
   ]
  },
  {
   "cell_type": "code",
   "execution_count": null,
   "metadata": {
    "id": "p1BVDWo7pfDC"
   },
   "outputs": [],
   "source": [
    "labels = [{'name':'Mask', 'id':1}]\n",
    "\n",
    "with open(files['LABELMAP'], 'w') as f:\n",
    "    for label in labels:\n",
    "        f.write('item { \\n')\n",
    "        \n",
    "        f.write('\\tname:\\'{}\\'\\n'.format(label['name']))\n",
    "        f.write('\\tid:{}\\n'.format(label['id']))\n",
    "        f.write('}\\n')"
   ]
  },
  {
   "cell_type": "markdown",
   "metadata": {
    "id": "C88zyVELpfDC"
   },
   "source": [
    "# 5. Create TF records"
   ]
  },
  {
   "cell_type": "code",
   "execution_count": null,
   "metadata": {
    "colab": {
     "base_uri": "https://localhost:8080/"
    },
    "id": "kvf5WccwrFGq",
    "outputId": "49902aeb-0bd7-4298-e1a0-5b4a64eb2064"
   },
   "outputs": [],
   "source": [
    "# OPTIONAL IF RUNNING ON COLAB\n",
    "ARCHIVE_FILES = os.path.join(paths['IMAGE_PATH'], 'archive.tar.gz')\n",
    "if os.path.exists(ARCHIVE_FILES):\n",
    "  !tar -zxvf {ARCHIVE_FILES}"
   ]
  },
  {
   "cell_type": "code",
   "execution_count": null,
   "metadata": {
    "colab": {
     "base_uri": "https://localhost:8080/"
    },
    "id": "UPFToGZqpfDD",
    "outputId": "0ebb456f-aadc-4a1f-96e6-fbfec1923e1c"
   },
   "outputs": [],
   "source": [
    "!python {files['TF_RECORD_SCRIPT']} -x {os.path.join(paths['IMAGE_PATH'], 'train')} -l {files['LABELMAP']} -o {os.path.join(paths['ANNOTATION_PATH'], 'train.record')} \n",
    "!python {files['TF_RECORD_SCRIPT']} -x {os.path.join(paths['IMAGE_PATH'], 'test')} -l {files['LABELMAP']} -o {os.path.join(paths['ANNOTATION_PATH'], 'test.record')} "
   ]
  },
  {
   "cell_type": "markdown",
   "metadata": {
    "id": "qT4QU7pLpfDE"
   },
   "source": [
    "# 6. Copy Model Config to Training Folder"
   ]
  },
  {
   "cell_type": "code",
   "execution_count": null,
   "metadata": {
    "id": "cOjuTFbwpfDF"
   },
   "outputs": [],
   "source": [
    "if os.name =='posix':\n",
    "    !cp {os.path.join(paths['PRETRAINED_MODEL_PATH'], PRETRAINED_MODEL_NAME, 'pipeline.config')} {os.path.join(paths['CHECKPOINT_PATH'])}\n",
    "if os.name == 'nt':\n",
    "    !copy {os.path.join(paths['PRETRAINED_MODEL_PATH'], PRETRAINED_MODEL_NAME, 'pipeline.config')} {os.path.join(paths['CHECKPOINT_PATH'])}"
   ]
  },
  {
   "cell_type": "code",
   "execution_count": null,
   "metadata": {},
   "outputs": [],
   "source": [
    "config = config_util.get_configs_from_pipeline_file(files['PIPELINE_CONFIG'])"
   ]
  },
  {
   "cell_type": "code",
   "execution_count": null,
   "metadata": {},
   "outputs": [],
   "source": [
    "pipeline_config = pipeline_pb2.TrainEvalPipelineConfig()\n",
    "with tf.io.gfile.GFile(files['PIPELINE_CONFIG'], \"r\") as f:                                                                                                                                                                                                                     \n",
    "    proto_str = f.read()                                                                                                                                                                                                                                          \n",
    "    text_format.Merge(proto_str, pipeline_config)"
   ]
  },
  {
   "cell_type": "markdown",
   "metadata": {},
   "source": [
    "# 7. writing values to config file"
   ]
  },
  {
   "cell_type": "code",
   "execution_count": null,
   "metadata": {},
   "outputs": [],
   "source": [
    "pipeline_config.model.ssd.num_classes = len(labels)\n",
    "pipeline_config.train_config.batch_size = 4\n",
    "pipeline_config.train_config.fine_tune_checkpoint = os.path.join(paths['PRETRAINED_MODEL_PATH'], PRETRAINED_MODEL_NAME, 'checkpoint', 'ckpt-0')\n",
    "pipeline_config.train_config.fine_tune_checkpoint_type = \"detection\"\n",
    "pipeline_config.train_input_reader.label_map_path= files['LABELMAP']\n",
    "pipeline_config.train_input_reader.tf_record_input_reader.input_path[:] = [os.path.join(paths['ANNOTATION_PATH'], 'train.record')]\n",
    "pipeline_config.eval_input_reader[0].label_map_path = files['LABELMAP']\n",
    "pipeline_config.eval_input_reader[0].tf_record_input_reader.input_path[:] = [os.path.join(paths['ANNOTATION_PATH'], 'test.record')]"
   ]
  },
  {
   "cell_type": "code",
   "execution_count": null,
   "metadata": {},
   "outputs": [],
   "source": [
    "config_text = text_format.MessageToString(pipeline_config)                                                                                                                                                                                                        \n",
    "with tf.io.gfile.GFile(files['PIPELINE_CONFIG'], \"wb\") as f:                                                                                                                                                                                                                     \n",
    "    f.write(config_text)\n"
   ]
  },
  {
   "cell_type": "markdown",
   "metadata": {},
   "source": [
    "# 8. Training model "
   ]
  },
  {
   "cell_type": "code",
   "execution_count": null,
   "metadata": {},
   "outputs": [],
   "source": [
    "TRAINING_SCRIPT = os.path.join(paths['APIMODEL_PATH'], 'research', 'object_detection', 'model_main_tf2.py')"
   ]
  },
  {
   "cell_type": "code",
   "execution_count": null,
   "metadata": {},
   "outputs": [],
   "source": [
    "command = \"python {} --model_dir={} --pipeline_config_path={} --num_train_steps=2000\".format(TRAINING_SCRIPT, paths['CHECKPOINT_PATH'],files['PIPELINE_CONFIG'])"
   ]
  },
  {
   "cell_type": "markdown",
   "metadata": {},
   "source": [
    "# Mostly run this query through cmd"
   ]
  },
  {
   "cell_type": "code",
   "execution_count": null,
   "metadata": {},
   "outputs": [],
   "source": [
    "print(command)"
   ]
  },
  {
   "cell_type": "code",
   "execution_count": null,
   "metadata": {},
   "outputs": [],
   "source": [
    "!{command}"
   ]
  },
  {
   "cell_type": "markdown",
   "metadata": {},
   "source": [
    "# 9. loading trained model for mask detection from the checkpoints"
   ]
  },
  {
   "cell_type": "code",
   "execution_count": 7,
   "metadata": {},
   "outputs": [],
   "source": [
    "labels = [{'name':'Mask', 'id':1}]\n",
    "# Load pipeline config and build a detection model\n",
    "configs = config_util.get_configs_from_pipeline_file(files['PIPELINE_CONFIG'])\n",
    "detection_model = model_builder.build(model_config=configs['model'], is_training=False)\n",
    "\n",
    "# Restore checkpoint\n",
    "ckpt = tf.compat.v2.train.Checkpoint(model=detection_model)\n",
    "ckpt.restore(os.path.join(paths['CHECKPOINT_PATH'], 'ckpt-11')).expect_partial()\n",
    "\n",
    "@tf.function\n",
    "def detect_fn(image):\n",
    "    image, shapes = detection_model.preprocess(image)\n",
    "    prediction_dict = detection_model.predict(image, shapes)\n",
    "    detections = detection_model.postprocess(prediction_dict, shapes)\n",
    "    return detections\n"
   ]
  },
  {
   "cell_type": "markdown",
   "metadata": {},
   "source": [
    "# defining category index"
   ]
  },
  {
   "cell_type": "code",
   "execution_count": 8,
   "metadata": {},
   "outputs": [],
   "source": [
    "category_index = label_map_util.create_category_index_from_labelmap(files['LABELMAP'])"
   ]
  },
  {
   "cell_type": "markdown",
   "metadata": {},
   "source": [
    "# defining function to get the face from the image "
   ]
  },
  {
   "cell_type": "code",
   "execution_count": 9,
   "metadata": {},
   "outputs": [],
   "source": [
    "def get_face(image):\n",
    "    img = cv2.imread(image)\n",
    "\n",
    "    # Convert into grayscale\n",
    "    gray = cv2.cvtColor(img, cv2.COLOR_BGR2GRAY)\n",
    "\n",
    "    # Load the cascade\n",
    "    face_cascade = cv2.CascadeClassifier('haarcascade_frontalface_default.xml')\n",
    "\n",
    "    # Detect faces\n",
    "    faces = face_cascade.detectMultiScale(gray, 1.1, 4)\n",
    "    \n",
    "    return img,faces"
   ]
  },
  {
   "cell_type": "markdown",
   "metadata": {},
   "source": [
    "# defining this function to save the image.\n",
    "# 1. First it will detect the face from the image\n",
    "# 2. Then it will divide the detect face into two halfs, first half and second half\n",
    "# 3. Then first it will check the complete face if no mask is there then it will store the full face image.\n",
    "# 4. If mask is there in the image then it will store the upper half image of the face"
   ]
  },
  {
   "cell_type": "code",
   "execution_count": 10,
   "metadata": {},
   "outputs": [],
   "source": [
    "def save_images(image):\n",
    "    \n",
    "    #taking image path\n",
    "    img_name = image\n",
    "\n",
    "    #calling method to get the face from the image\n",
    "    img, faces = get_face(img_name)\n",
    "\n",
    "    # Draw rectangle around the faces and crop the faces\n",
    "    for (x, y, w, h) in faces:\n",
    "        cv2.rectangle(img, (x, y), (x+w, y+h), (0, 0, 255), 2)\n",
    "        faces = img[y:y + h, x:x + w]\n",
    "        #plt.imshow(faces)\n",
    "        cv2.imwrite('face.jpg', faces)\n",
    "    \n",
    "    #detecting the height and width of the face detected in the image\n",
    "    height = faces.shape[0]\n",
    "    width = faces.shape[1]\n",
    "\n",
    "    #area of the image\n",
    "    area = height * width\n",
    "\n",
    "    #Cut the image in half horizontally and dividing the detected face into two halfs upper and lower half\n",
    "    width_cutoff = height // 2\n",
    "    \n",
    "    #upper half\n",
    "    up = faces[:width_cutoff, :]\n",
    "    \n",
    "    #lower half\n",
    "    down = faces[width_cutoff:, :]\n",
    "    \n",
    "    #storing those complete, upper and lower half of the face in the list\n",
    "    parts = [faces,up,down]\n",
    "    count = 0\n",
    "    \n",
    "    #It is the directory where image will get stored\n",
    "    IMAGES_PATH = 'Persons_image'\n",
    "\n",
    "    #running loop through out the list\n",
    "    for part in parts:\n",
    "        class_name ='no'\n",
    "        \n",
    "        #converting image to array\n",
    "        image_np = np.array(part)\n",
    "        \n",
    "        #converting image array to tensor\n",
    "        input_tensor = tf.convert_to_tensor(np.expand_dims(image_np, 0), dtype=tf.float32)\n",
    "        \n",
    "        #calling function to detect boxes, classes and scores\n",
    "        detections = detect_fn(input_tensor)\n",
    "        \n",
    "        #number of detections\n",
    "        num_detections = int(detections.pop('num_detections'))\n",
    "        \n",
    "        detections = {key: value[0, :num_detections].numpy()\n",
    "                      for key, value in detections.items()}\n",
    "        detections['num_detections'] = num_detections\n",
    "\n",
    "        # detection_classes should be ints.\n",
    "        detections['detection_classes'] = detections['detection_classes'].astype(np.int64)\n",
    "\n",
    "        label_id_offset = 1\n",
    "        image_np_with_detections = image_np.copy()\n",
    "        \n",
    "        #visualizing the image with following detections\n",
    "        viz_utils.visualize_boxes_and_labels_on_image_array(\n",
    "                    image_np_with_detections,\n",
    "                    detections['detection_boxes'],\n",
    "                    detections['detection_classes']+label_id_offset,\n",
    "                    detections['detection_scores'],\n",
    "                    category_index,\n",
    "                    use_normalized_coordinates=True,\n",
    "                    max_boxes_to_draw=2,\n",
    "                    min_score_thresh=.8,\n",
    "                    agnostic_mode=False)\n",
    "        \n",
    "        #plotting images\n",
    "        plt.imshow(image_np_with_detections)\n",
    "        plt.show()\n",
    "\n",
    "        #Save images to the directory\n",
    "        classes = set(detections['detection_classes'])\n",
    "        for clas in classes:\n",
    "            print(detections['detection_scores'][clas])\n",
    "            if detections['detection_scores'][clas] > 0.7:\n",
    "                class_name = category_index[clas+1]['name']\n",
    "                count = count+1\n",
    "                if class_name == 'no':\n",
    "                    name = input('Enter Name: ')\n",
    "                    imgname = os.path.join(IMAGES_PATH +'.'+'{}.jpg'.format(name))\n",
    "                    cv2.imwrite(imgname, part)\n",
    "                    print('Image Saved!')\n",
    "            else:\n",
    "                if class_name == 'no':\n",
    "                    name = input('Enter Name: ')\n",
    "                    imgname = os.path.join(IMAGES_PATH+'/'+'{}.jpg'.format(name))\n",
    "                    part = cv2.cvtColor(part, cv2.COLOR_BGR2RGB)\n",
    "                    cv2.imwrite(imgname, part)\n",
    "                    print('Image Saved!')\n",
    "                count = 0\n",
    "        if count == 0:\n",
    "            break"
   ]
  },
  {
   "cell_type": "markdown",
   "metadata": {},
   "source": [
    "# defining function get the faces from the images and then save it"
   ]
  },
  {
   "cell_type": "code",
   "execution_count": 11,
   "metadata": {},
   "outputs": [],
   "source": [
    "def save_and_get_face(image):\n",
    "    \n",
    "    img = cv2.imread(image)\n",
    "    # Convert into grayscale\n",
    "    gray = cv2.cvtColor(img, cv2.COLOR_BGR2GRAY)\n",
    "\n",
    "    # Load the cascade\n",
    "    face_cascade = cv2.CascadeClassifier('haarcascade_frontalface_default.xml')\n",
    "\n",
    "    # Detect faces\n",
    "    faces = face_cascade.detectMultiScale(gray, 1.1, 4)\n",
    "    \n",
    "    for (x, y, w, h) in faces:\n",
    "        cv2.rectangle(img, (x, y), (x+w, y+h), (0, 0, 255), 2)\n",
    "        faces = img[y:y + h, x:x + w]\n",
    "        #plt.imshow(faces)\n",
    "        faces = cv2.cvtColor(faces, cv2.COLOR_BGR2RGB)\n",
    "        cv2.imwrite('face.jpg', faces)\n",
    "    \n",
    "    image_path = 'face.jpg'\n",
    "    \n",
    "    return image_path"
   ]
  },
  {
   "cell_type": "markdown",
   "metadata": {},
   "source": [
    "# defining a class to create a model which will detect the faces and the person to whome it belongs to in the live cam, \n",
    "# First it will find the features from the images and then basis of the features person in the video will be classified using gaussian classifier."
   ]
  },
  {
   "cell_type": "code",
   "execution_count": 12,
   "metadata": {},
   "outputs": [],
   "source": [
    "class Detect_person_model:\n",
    "    def __init__(self, model, featue_extractor,image_path):\n",
    "        #print(\"Begin\")\n",
    "        self.image_name = ''\n",
    "        self.model = model\n",
    "        self.feat_extractor = featue_extractor\n",
    "       # print('Model created')\n",
    "        #here getting all the images from the directory where we are saving persons images\n",
    "        self.IMAGES_PATH = 'Persons_image'\n",
    "        self.images_path = self.IMAGES_PATH\n",
    "\n",
    "        #this will be the extensions of our images\n",
    "        self.image_extensions = ['.jpg', '.png', '.jpeg']   # case-insensitive (upper/lower doesn't matter)\n",
    "        self.max_num_images = 10000\n",
    "\n",
    "        self.images = self.get_images()        \n",
    "       # print(self.images)\n",
    "       # print(\"keeping %d images to analyze\" % len(self.images))\n",
    "        \n",
    "        self.features = self.get_features()\n",
    "        #print('finished extracting features for %d images' % len(self.images))\n",
    "        \n",
    "        self.features = np.array(self.features)\n",
    "        self.pca = PCA()\n",
    "        self.pca.fit(self.features)\n",
    "        self.pca_features = self.pca.transform(self.features)\n",
    "        \n",
    "        self.data = pd.DataFrame(self.pca_features)\n",
    "        self.data['names'] = self.get_name(self.images)\n",
    "        \n",
    "        self.x_data = self.data.drop(['names'], axis =1)\n",
    "        self.y_data = self.data['names']\n",
    "        \n",
    "        self.classifier = GaussianNB()\n",
    "        self.trained_model = self.train_model(self.classifier,self.x_data,self.y_data)\n",
    "        \n",
    "        self.query_image1 = image_path\n",
    "    \n",
    "        #calling function to getting and saving the faces from the image\n",
    "        #print(self.query_image1)\n",
    "        self.query_image = self.save_and_get_face(self.query_image1)\n",
    "\n",
    "        #calling function to to load the face image\n",
    "        self.new_image, self.x = self.load_image(self.query_image)\n",
    "\n",
    "        #finding the feature from the face image\n",
    "        self.new_features = self.feat_extractor.predict(self.x)\n",
    "        self.new_pca_features = self.pca.transform(self.new_features)[0]\n",
    "        \n",
    "        self.input_data = [self.new_pca_features]\n",
    "        self.image_name = self.trained_model.predict(self.input_data)[0]\n",
    "        \n",
    "\n",
    "        # display the resulting images\n",
    "    \n",
    "    def train_model(self,model,x,y):\n",
    "        model = model.fit(x,y)\n",
    "        return model\n",
    "\n",
    "    def get_name(self,image_names):\n",
    "    \n",
    "        i_name = []\n",
    "        for name in image_names:\n",
    "            Name = Path(name).stem\n",
    "            i_name.append(Name)\n",
    "\n",
    "        return i_name\n",
    "    \n",
    "    def save_and_get_face(self,image):\n",
    "        \n",
    "        img = cv2.imread(image)\n",
    "        # Convert into grayscale\n",
    "        gray = cv2.cvtColor(img, cv2.COLOR_BGR2GRAY)\n",
    "\n",
    "        # Load the cascade\n",
    "        face_cascade = cv2.CascadeClassifier('haarcascade_frontalface_default.xml')\n",
    "\n",
    "        # Detect faces\n",
    "        faces = face_cascade.detectMultiScale(gray, 1.1, 4)\n",
    "\n",
    "        for (x, y, w, h) in faces:\n",
    "            cv2.rectangle(img, (x, y), (x+w, y+h), (0, 0, 255), 2)\n",
    "            faces = img[y:y + h, x:x + w]\n",
    "            #plt.imshow(faces)\n",
    "            faces = cv2.cvtColor(faces, cv2.COLOR_BGR2RGB)\n",
    "            cv2.imwrite('face.jpg', faces)\n",
    "\n",
    "        image_path = 'face.jpg'\n",
    "\n",
    "        return image_path\n",
    "    \n",
    "    def get_features(self):\n",
    "        features = []\n",
    "        tic = time.perf_counter()\n",
    "        for i, image_path in enumerate(self.images):\n",
    "            if i % 500 == 0:\n",
    "                toc = time.perf_counter()\n",
    "                elap = toc-tic;\n",
    "                #print(\"analyzing image %d / %d. Time: %4.4f seconds.\" % (i, len(self.images),elap))\n",
    "                tic = time.perf_counter()\n",
    "            img, x = self.load_image(image_path);\n",
    "            feat = self.feat_extractor.predict(x)[0]\n",
    "            features.append(feat)\n",
    "            \n",
    "        return features\n",
    "        \n",
    "        \n",
    "    def get_images(self):\n",
    "        images = [os.path.join(dp, f) for dp, dn, filenames in os.walk(self.images_path) for f in filenames if os.path.splitext(f)[1].lower() in self.image_extensions]\n",
    "        if self.max_num_images < len(images):\n",
    "            images = [images[i] for i in sorted(random.sample(xrange(len(images)), self.max_num_images))]\n",
    "        return images\n",
    "    \n",
    "    def load_image(self,path):\n",
    "        img = image.load_img(path, target_size=self.model.input_shape[1:3])\n",
    "        x = image.img_to_array(img)\n",
    "        x = np.expand_dims(x, axis=0)\n",
    "        x = preprocess_input(x)\n",
    "        return img, x\n",
    "    \n",
    "    "
   ]
  },
  {
   "cell_type": "markdown",
   "metadata": {},
   "source": [
    "# defining a class to create a model which will detect the faces and the person to whome it belongs to in the live cam, \n",
    "# First it will find the features from the images and then we will find the cosine similarity between the requested and stored images features"
   ]
  },
  {
   "cell_type": "code",
   "execution_count": 13,
   "metadata": {},
   "outputs": [],
   "source": [
    "class Detect_person:\n",
    "    def __init__(self, model, featue_extractor,image_path):\n",
    "        #print(\"Begin\")\n",
    "        \n",
    "        self.model = model\n",
    "        self.feat_extractor = featue_extractor\n",
    "       # print('Model created')\n",
    "        #here getting all the images from the directory where we are saving persons images\n",
    "        self.IMAGES_PATH = 'Persons_image'\n",
    "        self.images_path = self.IMAGES_PATH\n",
    "\n",
    "        #this will be the extensions of our images\n",
    "        self.image_extensions = ['.jpg', '.png', '.jpeg']   # case-insensitive (upper/lower doesn't matter)\n",
    "        self.max_num_images = 10000\n",
    "\n",
    "        self.images = self.get_images()        \n",
    "       # print(self.images)\n",
    "       # print(\"keeping %d images to analyze\" % len(self.images))\n",
    "        \n",
    "        self.features = self.get_features()\n",
    "        #print('finished extracting features for %d images' % len(self.images))\n",
    "        \n",
    "        self.features = np.array(self.features)\n",
    "        self.pca = PCA()\n",
    "        self.pca.fit(self.features)\n",
    "        self.pca_features = self.pca.transform(self.features)\n",
    "        \n",
    "        self.query_image1 = image_path\n",
    "    \n",
    "        #calling function to getting and saving the faces from the image\n",
    "        #print(self.query_image1)\n",
    "        self.query_image = self.save_and_get_face(self.query_image1)\n",
    "\n",
    "        #calling function to to load the face image\n",
    "        self.new_image, self.x = self.load_image(self.query_image)\n",
    "\n",
    "        #finding the feature from the face image\n",
    "        self.new_features = self.feat_extractor.predict(self.x)\n",
    "        self.new_pca_features = self.pca.transform(self.new_features)[0]\n",
    "\n",
    "        # calculate its distance to all the other images pca feature vectors\n",
    "        self.distances = [ distance.cosine(self.new_pca_features, feat) for feat in self.pca_features ]\n",
    "\n",
    "        #finding the most similar image\n",
    "        self.idx_closest = sorted(range(len(self.distances)), key=lambda k: self.distances[k])[0:1]  # grab first 5\n",
    "        self.results_image = self.get_concatenated_images(self.idx_closest, 200)\n",
    "\n",
    "        # display the images\n",
    "        #self.plot_image(self.new_image, \"Query Image\")\n",
    "        \n",
    "        self.name = self.get_name(self.images,self.idx_closest)\n",
    "        #self.plot_image(self.results_image,self.name)\n",
    "\n",
    "        # display the resulting images\n",
    "    \n",
    "    def return_name(self):\n",
    "        return self.name\n",
    "    \n",
    "    def plot_image(self,image,name):\n",
    "        plt.figure(figsize = (5,5))\n",
    "        plt.imshow(image)\n",
    "        plt.title(name)\n",
    "\n",
    "    def get_name(self,image_names, index):\n",
    "    \n",
    "        image_path = image_names[index[0]]\n",
    "        Name = Path(image_path).stem\n",
    "\n",
    "        return Name\n",
    "    \n",
    "    def save_and_get_face(self,image):\n",
    "        \n",
    "        img = cv2.imread(image)\n",
    "        # Convert into grayscale\n",
    "        gray = cv2.cvtColor(img, cv2.COLOR_BGR2GRAY)\n",
    "\n",
    "        # Load the cascade\n",
    "        face_cascade = cv2.CascadeClassifier('haarcascade_frontalface_default.xml')\n",
    "\n",
    "        # Detect faces\n",
    "        faces = face_cascade.detectMultiScale(gray, 1.1, 4)\n",
    "\n",
    "        for (x, y, w, h) in faces:\n",
    "            cv2.rectangle(img, (x, y), (x+w, y+h), (0, 0, 255), 2)\n",
    "            faces = img[y:y + h, x:x + w]\n",
    "            #plt.imshow(faces)\n",
    "            faces = cv2.cvtColor(faces, cv2.COLOR_BGR2RGB)\n",
    "            cv2.imwrite('face.jpg', faces)\n",
    "\n",
    "        image_path = 'face.jpg'\n",
    "\n",
    "        return image_path\n",
    "    \n",
    "    def get_features(self):\n",
    "        features = []\n",
    "        tic = time.perf_counter()\n",
    "        for i, image_path in enumerate(self.images):\n",
    "            if i % 500 == 0:\n",
    "                toc = time.perf_counter()\n",
    "                elap = toc-tic;\n",
    "                #print(\"analyzing image %d / %d. Time: %4.4f seconds.\" % (i, len(self.images),elap))\n",
    "                tic = time.perf_counter()\n",
    "            img, x = self.load_image(image_path);\n",
    "            feat = self.feat_extractor.predict(x)[0]\n",
    "            features.append(feat)\n",
    "            \n",
    "        return features\n",
    "        \n",
    "        \n",
    "    def get_images(self):\n",
    "        images = [os.path.join(dp, f) for dp, dn, filenames in os.walk(self.images_path) for f in filenames if os.path.splitext(f)[1].lower() in self.image_extensions]\n",
    "        if self.max_num_images < len(images):\n",
    "            images = [images[i] for i in sorted(random.sample(xrange(len(images)), self.max_num_images))]\n",
    "        return images\n",
    "    \n",
    "    def load_image(self,path):\n",
    "        img = image.load_img(path, target_size=self.model.input_shape[1:3])\n",
    "        x = image.img_to_array(img)\n",
    "        x = np.expand_dims(x, axis=0)\n",
    "        x = preprocess_input(x)\n",
    "        return img, x\n",
    "    \n",
    "    def get_concatenated_images(self,indexes, thumb_height):\n",
    "        thumbs = []\n",
    "        for idx in indexes:\n",
    "            img = image.load_img(self.images[idx])\n",
    "            img = img.resize((int(img.width * thumb_height / img.height), thumb_height))\n",
    "            thumbs.append(img)\n",
    "        concat_image = np.concatenate([np.asarray(t) for t in thumbs], axis=1)\n",
    "        return concat_image\n",
    "    "
   ]
  },
  {
   "cell_type": "code",
   "execution_count": 14,
   "metadata": {},
   "outputs": [
    {
     "data": {
      "image/png": "[encoded data removed]",
      "text/plain": [
       "<Figure size 432x288 with 1 Axes>"
      ]
     },
     "metadata": {
      "needs_background": "light"
     },
     "output_type": "display_data"
    },
    {
     "name": "stdout",
     "output_type": "stream",
     "text": [
      "0.12669723\n",
      "Enter Name: Gagan\n",
      "Image Saved!\n"
     ]
    }
   ],
   "source": [
    "save_images('TEST/face.jpg')"
   ]
  },
  {
   "cell_type": "markdown",
   "metadata": {},
   "source": [
    "# creating VGG16 model and feature extractor model using VGG16 model using tensorflow"
   ]
  },
  {
   "cell_type": "code",
   "execution_count": 15,
   "metadata": {},
   "outputs": [],
   "source": [
    "model = tf.keras.applications.VGG16(weights='imagenet', include_top=True)\n",
    "time.sleep(4)\n",
    "feat_extractor = tf.keras.Model(inputs=model.input, outputs=model.get_layer(\"fc2\").output)"
   ]
  },
  {
   "cell_type": "markdown",
   "metadata": {},
   "source": [
    "# for live video cam detection"
   ]
  },
  {
   "cell_type": "code",
   "execution_count": 21,
   "metadata": {},
   "outputs": [
    {
     "ename": "KeyboardInterrupt",
     "evalue": "",
     "output_type": "error",
     "traceback": [
      "\u001b[1;31m---------------------------------------------------------------------------\u001b[0m",
      "\u001b[1;31mKeyboardInterrupt\u001b[0m                         Traceback (most recent call last)",
      "\u001b[1;32m<ipython-input-21-10d593d4e774>\u001b[0m in \u001b[0;36m<module>\u001b[1;34m\u001b[0m\n\u001b[0;32m      9\u001b[0m \u001b[1;33m\u001b[0m\u001b[0m\n\u001b[0;32m     10\u001b[0m     \u001b[0mfaces\u001b[0m \u001b[1;33m=\u001b[0m \u001b[0mfaceCascade\u001b[0m\u001b[1;33m.\u001b[0m\u001b[0mdetectMultiScale\u001b[0m\u001b[1;33m(\u001b[0m\u001b[0mgray\u001b[0m\u001b[1;33m,\u001b[0m\u001b[0mscaleFactor\u001b[0m\u001b[1;33m=\u001b[0m\u001b[1;36m1.1\u001b[0m\u001b[1;33m,\u001b[0m\u001b[0mminNeighbors\u001b[0m\u001b[1;33m=\u001b[0m\u001b[1;36m5\u001b[0m\u001b[1;33m,\u001b[0m\u001b[0mminSize\u001b[0m\u001b[1;33m=\u001b[0m\u001b[1;33m(\u001b[0m\u001b[1;36m30\u001b[0m\u001b[1;33m,\u001b[0m \u001b[1;36m30\u001b[0m\u001b[1;33m)\u001b[0m\u001b[1;33m)\u001b[0m\u001b[1;33m\u001b[0m\u001b[1;33m\u001b[0m\u001b[0m\n\u001b[1;32m---> 11\u001b[1;33m     \u001b[0mdetect\u001b[0m \u001b[1;33m=\u001b[0m \u001b[0mDetect_person_model\u001b[0m\u001b[1;33m(\u001b[0m\u001b[0mmodel\u001b[0m\u001b[1;33m,\u001b[0m \u001b[0mfeat_extractor\u001b[0m\u001b[1;33m,\u001b[0m\u001b[0minput_image\u001b[0m\u001b[1;33m)\u001b[0m\u001b[1;33m\u001b[0m\u001b[1;33m\u001b[0m\u001b[0m\n\u001b[0m\u001b[0;32m     12\u001b[0m     \u001b[0mname\u001b[0m \u001b[1;33m=\u001b[0m \u001b[0mdetect\u001b[0m\u001b[1;33m.\u001b[0m\u001b[0mimage_name\u001b[0m\u001b[1;33m\u001b[0m\u001b[1;33m\u001b[0m\u001b[0m\n\u001b[0;32m     13\u001b[0m \u001b[1;33m\u001b[0m\u001b[0m\n",
      "\u001b[1;32m<ipython-input-12-181e9f52bc6a>\u001b[0m in \u001b[0;36m__init__\u001b[1;34m(self, model, featue_extractor, image_path)\u001b[0m\n\u001b[0;32m     39\u001b[0m         \u001b[1;31m#calling function to getting and saving the faces from the image\u001b[0m\u001b[1;33m\u001b[0m\u001b[1;33m\u001b[0m\u001b[1;33m\u001b[0m\u001b[0m\n\u001b[0;32m     40\u001b[0m         \u001b[1;31m#print(self.query_image1)\u001b[0m\u001b[1;33m\u001b[0m\u001b[1;33m\u001b[0m\u001b[1;33m\u001b[0m\u001b[0m\n\u001b[1;32m---> 41\u001b[1;33m         \u001b[0mself\u001b[0m\u001b[1;33m.\u001b[0m\u001b[0mquery_image\u001b[0m \u001b[1;33m=\u001b[0m \u001b[0mself\u001b[0m\u001b[1;33m.\u001b[0m\u001b[0msave_and_get_face\u001b[0m\u001b[1;33m(\u001b[0m\u001b[0mself\u001b[0m\u001b[1;33m.\u001b[0m\u001b[0mquery_image1\u001b[0m\u001b[1;33m)\u001b[0m\u001b[1;33m\u001b[0m\u001b[1;33m\u001b[0m\u001b[0m\n\u001b[0m\u001b[0;32m     42\u001b[0m \u001b[1;33m\u001b[0m\u001b[0m\n\u001b[0;32m     43\u001b[0m         \u001b[1;31m#calling function to to load the face image\u001b[0m\u001b[1;33m\u001b[0m\u001b[1;33m\u001b[0m\u001b[1;33m\u001b[0m\u001b[0m\n",
      "\u001b[1;32m<ipython-input-12-181e9f52bc6a>\u001b[0m in \u001b[0;36msave_and_get_face\u001b[1;34m(self, image)\u001b[0m\n\u001b[0;32m     74\u001b[0m \u001b[1;33m\u001b[0m\u001b[0m\n\u001b[0;32m     75\u001b[0m         \u001b[1;31m# Load the cascade\u001b[0m\u001b[1;33m\u001b[0m\u001b[1;33m\u001b[0m\u001b[1;33m\u001b[0m\u001b[0m\n\u001b[1;32m---> 76\u001b[1;33m         \u001b[0mface_cascade\u001b[0m \u001b[1;33m=\u001b[0m \u001b[0mcv2\u001b[0m\u001b[1;33m.\u001b[0m\u001b[0mCascadeClassifier\u001b[0m\u001b[1;33m(\u001b[0m\u001b[1;34m'haarcascade_frontalface_default.xml'\u001b[0m\u001b[1;33m)\u001b[0m\u001b[1;33m\u001b[0m\u001b[1;33m\u001b[0m\u001b[0m\n\u001b[0m\u001b[0;32m     77\u001b[0m \u001b[1;33m\u001b[0m\u001b[0m\n\u001b[0;32m     78\u001b[0m         \u001b[1;31m# Detect faces\u001b[0m\u001b[1;33m\u001b[0m\u001b[1;33m\u001b[0m\u001b[1;33m\u001b[0m\u001b[0m\n",
      "\u001b[1;31mKeyboardInterrupt\u001b[0m: "
     ]
    }
   ],
   "source": [
    "cap = cv2.VideoCapture(0)\n",
    "faceCascade = cv2.CascadeClassifier(\"haarcascade_frontalface_default.xml\")\n",
    "while(True):\n",
    "    ret, frame = cap.read()\n",
    "    gray = cv2.cvtColor(frame, cv2.COLOR_BGR2GRAY)\n",
    "    cv2.imwrite('input_image.jpg', frame)\n",
    "    \n",
    "    input_image = 'input_image.jpg'\n",
    "    \n",
    "    faces = faceCascade.detectMultiScale(gray,scaleFactor=1.1,minNeighbors=5,minSize=(30, 30))\n",
    "    detect = Detect_person_model(model, feat_extractor,input_image)\n",
    "    name = detect.image_name\n",
    "\n",
    "    for (x, y, w, h) in faces:\n",
    "        img = cv2.rectangle(frame, (x, y), (x+w, y+h), (0, 255, 0), 2)\n",
    "        cv2.putText(img, name, (x, y-10), cv2.FONT_HERSHEY_SIMPLEX, 0.9, (36,255,12), 2)\n",
    "        \n",
    "    cv2.imshow('frame', frame)\n",
    "    if cv2.waitKey(1) & 0xFF == ord('q'):\n",
    "        break\n",
    "\n",
    "    \n",
    "    "
   ]
  },
  {
   "cell_type": "code",
   "execution_count": 22,
   "metadata": {},
   "outputs": [],
   "source": [
    "cap.release()\n",
    "cv2.destroyAllWindows()"
   ]
  },
  {
   "cell_type": "code",
   "execution_count": null,
   "metadata": {},
   "outputs": [],
   "source": []
  },
  {
   "cell_type": "code",
   "execution_count": null,
   "metadata": {},
   "outputs": [],
   "source": []
  },
  {
   "cell_type": "code",
   "execution_count": null,
   "metadata": {},
   "outputs": [],
   "source": []
  }
 ],
 "metadata": {
  "accelerator": "GPU",
  "colab": {
   "name": "3. Training and Detection.ipynb",
   "provenance": []
  },
  "kernelspec": {
   "display_name": "Python 3",
   "language": "python",
   "name": "python3"
  },
  "language_info": {
   "codemirror_mode": {
    "name": "ipython",
    "version": 3
   },
   "file_extension": ".py",
   "mimetype": "text/x-python",
   "name": "python",
   "nbconvert_exporter": "python",
   "pygments_lexer": "ipython3",
   "version": "3.9.5"
  }
 },
 "nbformat": 4,
 "nbformat_minor": 1
}
